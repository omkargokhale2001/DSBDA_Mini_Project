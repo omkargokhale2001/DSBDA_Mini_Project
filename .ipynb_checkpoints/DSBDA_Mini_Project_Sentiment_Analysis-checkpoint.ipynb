{
 "cells": [
  {
   "cell_type": "markdown",
   "id": "d8f43918",
   "metadata": {},
   "source": [
    "# DSBDAL Mini Project\n",
    "\n",
    "### Omkar Gokhale (31227)\n",
    "### Ameya Ganore (31225)\n",
    "\n",
    "### Problem Statement:\n",
    "Classify tweets as positive and negative"
   ]
  },
  {
   "cell_type": "markdown",
   "id": "6be6d545",
   "metadata": {},
   "source": [
    "## Library imports"
   ]
  },
  {
   "cell_type": "code",
   "execution_count": 1,
   "id": "5ec50034",
   "metadata": {},
   "outputs": [],
   "source": [
    "import pandas as pd\n",
    "import matplotlib.pyplot as plt"
   ]
  },
  {
   "cell_type": "markdown",
   "id": "8e312c80",
   "metadata": {},
   "source": [
    "## Importing data"
   ]
  },
  {
   "cell_type": "code",
   "execution_count": 13,
   "id": "fd5032a5",
   "metadata": {},
   "outputs": [
    {
     "data": {
      "text/html": [
       "<div>\n",
       "<style scoped>\n",
       "    .dataframe tbody tr th:only-of-type {\n",
       "        vertical-align: middle;\n",
       "    }\n",
       "\n",
       "    .dataframe tbody tr th {\n",
       "        vertical-align: top;\n",
       "    }\n",
       "\n",
       "    .dataframe thead th {\n",
       "        text-align: right;\n",
       "    }\n",
       "</style>\n",
       "<table border=\"1\" class=\"dataframe\">\n",
       "  <thead>\n",
       "    <tr style=\"text-align: right;\">\n",
       "      <th></th>\n",
       "      <th>text</th>\n",
       "      <th>label</th>\n",
       "    </tr>\n",
       "  </thead>\n",
       "  <tbody>\n",
       "    <tr>\n",
       "      <th>0</th>\n",
       "      <td>I grew up (b. 1965) watching and loving the Th...</td>\n",
       "      <td>0</td>\n",
       "    </tr>\n",
       "    <tr>\n",
       "      <th>1</th>\n",
       "      <td>When I put this movie in my DVD player, and sa...</td>\n",
       "      <td>0</td>\n",
       "    </tr>\n",
       "    <tr>\n",
       "      <th>2</th>\n",
       "      <td>Why do people who do not know what a particula...</td>\n",
       "      <td>0</td>\n",
       "    </tr>\n",
       "    <tr>\n",
       "      <th>3</th>\n",
       "      <td>Even though I have great interest in Biblical ...</td>\n",
       "      <td>0</td>\n",
       "    </tr>\n",
       "    <tr>\n",
       "      <th>4</th>\n",
       "      <td>Im a die hard Dads Army fan and nothing will e...</td>\n",
       "      <td>1</td>\n",
       "    </tr>\n",
       "    <tr>\n",
       "      <th>...</th>\n",
       "      <td>...</td>\n",
       "      <td>...</td>\n",
       "    </tr>\n",
       "    <tr>\n",
       "      <th>39995</th>\n",
       "      <td>\"Western Union\" is something of a forgotten cl...</td>\n",
       "      <td>1</td>\n",
       "    </tr>\n",
       "    <tr>\n",
       "      <th>39996</th>\n",
       "      <td>This movie is an incredible piece of work. It ...</td>\n",
       "      <td>1</td>\n",
       "    </tr>\n",
       "    <tr>\n",
       "      <th>39997</th>\n",
       "      <td>My wife and I watched this movie because we pl...</td>\n",
       "      <td>0</td>\n",
       "    </tr>\n",
       "    <tr>\n",
       "      <th>39998</th>\n",
       "      <td>When I first watched Flatliners, I was amazed....</td>\n",
       "      <td>1</td>\n",
       "    </tr>\n",
       "    <tr>\n",
       "      <th>39999</th>\n",
       "      <td>Why would this film be so good, but only gross...</td>\n",
       "      <td>1</td>\n",
       "    </tr>\n",
       "  </tbody>\n",
       "</table>\n",
       "<p>40000 rows × 2 columns</p>\n",
       "</div>"
      ],
      "text/plain": [
       "                                                    text  label\n",
       "0      I grew up (b. 1965) watching and loving the Th...      0\n",
       "1      When I put this movie in my DVD player, and sa...      0\n",
       "2      Why do people who do not know what a particula...      0\n",
       "3      Even though I have great interest in Biblical ...      0\n",
       "4      Im a die hard Dads Army fan and nothing will e...      1\n",
       "...                                                  ...    ...\n",
       "39995  \"Western Union\" is something of a forgotten cl...      1\n",
       "39996  This movie is an incredible piece of work. It ...      1\n",
       "39997  My wife and I watched this movie because we pl...      0\n",
       "39998  When I first watched Flatliners, I was amazed....      1\n",
       "39999  Why would this film be so good, but only gross...      1\n",
       "\n",
       "[40000 rows x 2 columns]"
      ]
     },
     "execution_count": 13,
     "metadata": {},
     "output_type": "execute_result"
    }
   ],
   "source": [
    "df = pd.read_csv(\"movie.csv\")\n",
    "df"
   ]
  },
  {
   "cell_type": "code",
   "execution_count": 14,
   "id": "eb0eb7f1",
   "metadata": {},
   "outputs": [
    {
     "data": {
      "text/plain": [
       "0    20019\n",
       "1    19981\n",
       "Name: label, dtype: int64"
      ]
     },
     "execution_count": 14,
     "metadata": {},
     "output_type": "execute_result"
    }
   ],
   "source": [
    "distribution_ = df['label'].value_counts()\n",
    "distribution_ "
   ]
  },
  {
   "cell_type": "code",
   "execution_count": 15,
   "id": "b44ec4a5",
   "metadata": {
    "scrolled": true
   },
   "outputs": [
    {
     "data": {
      "image/png": "[encoded data removed]",
      "text/plain": [
       "<Figure size 432x288 with 1 Axes>"
      ]
     },
     "metadata": {
      "needs_background": "light"
     },
     "output_type": "display_data"
    }
   ],
   "source": [
    "plt.figure()\n",
    "plt.bar(['Negative','Positive'],list(distribution_))\n",
    "plt.show()"
   ]
  },
  {
   "cell_type": "code",
   "execution_count": 54,
   "id": "142f0684",
   "metadata": {},
   "outputs": [
    {
     "data": {
      "text/plain": [
       "' grew b 1965 watching loving Thunderbirds mate school watched played Thunderbirds school lunch school wanted Virgil Scott one wanted Alan Counting 5 became art form took child see movie hoping would get glimpse loved child bitterly disappointing high point snappy theme tune could compare original score Thunderbirds Thankfully early Saturday morning one television channel still play rerun series Gerry Anderson wife created Jonatha Frakes hand director chair version completely hopeless waste film Utter rubbish CGI remake may acceptable replacing marionette Homo sapiens subsp sapiens huge error judgment'"
      ]
     },
     "execution_count": 54,
     "metadata": {},
     "output_type": "execute_result"
    }
   ],
   "source": [
    "df['text'].iloc[0]"
   ]
  },
  {
   "cell_type": "markdown",
   "id": "374191d6",
   "metadata": {},
   "source": [
    "## Preprocessing Text"
   ]
  },
  {
   "cell_type": "code",
   "execution_count": null,
   "id": "4eb252a3",
   "metadata": {},
   "outputs": [],
   "source": [
    "def lower_text(text):\n",
    "    return text.lower()"
   ]
  },
  {
   "cell_type": "code",
   "execution_count": 32,
   "id": "68e24a1e",
   "metadata": {},
   "outputs": [],
   "source": [
    "# Removing unwanted html tags\n",
    "import re\n",
    "def remove_tags(text):\n",
    "    clean = re.compile('<.*?>')\n",
    "    return re.sub(clean, '', text)\n"
   ]
  },
  {
   "cell_type": "code",
   "execution_count": 43,
   "id": "d4542f90",
   "metadata": {},
   "outputs": [],
   "source": [
    "# Removing punctuations\n",
    "def remove_punc(text):\n",
    "    res = re.sub(r'[^\\w\\s]', '', text)\n",
    "    return res"
   ]
  },
  {
   "cell_type": "code",
   "execution_count": 39,
   "id": "d6b934d2",
   "metadata": {},
   "outputs": [],
   "source": [
    "# removing stop words\n",
    "import nltk\n",
    "from nltk.corpus import stopwords\n",
    "from nltk.tokenize import word_tokenize\n",
    "from nltk.tokenize.treebank import TreebankWordDetokenizer\n",
    "\n",
    "def remove_stop(text):\n",
    "    my_stop_words = list(stopwords.words('english'))\n",
    "    words = list(word_tokenize(text))\n",
    "    new_words = [w for w in words if w.lower() not in my_stop_words]\n",
    "    text = \"\"\n",
    "    for i in new_words:\n",
    "        text = text + \" \" + i\n",
    "    return text"
   ]
  },
  {
   "cell_type": "code",
   "execution_count": 49,
   "id": "7f2deaa1",
   "metadata": {},
   "outputs": [],
   "source": [
    "# Lemmatization\n",
    "from nltk.stem import WordNetLemmatizer\n",
    "\n",
    "def lemma(text):\n",
    "    lemmatizer = WordNetLemmatizer()\n",
    "    words = word_tokenize(text)\n",
    "    text = \"\"\n",
    "    for i in range(len(words)):\n",
    "         text = text + \" \" + lemmatizer.lemmatize(words[i])\n",
    "            \n",
    "    return text"
   ]
  },
  {
   "cell_type": "code",
   "execution_count": 52,
   "id": "c8bcf6bf",
   "metadata": {},
   "outputs": [],
   "source": [
    "df['text'] = df['text'].apply(lambda x:lower_text(x))\n",
    "df['text'] = df['text'].apply(lambda x:remove_tags(x))\n",
    "df['text'] = df['text'].apply(lambda x:remove_punc(x))\n",
    "df['text'] = df['text'].apply(lambda x:remove_stop(x))\n",
    "df['text'] = df['text'].apply(lambda x:lemma(x))"
   ]
  },
  {
   "cell_type": "code",
   "execution_count": 53,
   "id": "addf6f44",
   "metadata": {},
   "outputs": [
    {
     "data": {
      "text/plain": [
       "0         grew b 1965 watching loving Thunderbirds mate...\n",
       "1         put movie DVD player sat coke chip expectatio...\n",
       "2         people know particular time past like feel ne...\n",
       "3         Even though great interest Biblical movie bor...\n",
       "4         Im die hard Dads Army fan nothing ever change...\n",
       "                               ...                        \n",
       "39995     Western Union something forgotten classic wes...\n",
       "39996     movie incredible piece work explores every no...\n",
       "39997     wife watched movie plan visit Sicily Strombol...\n",
       "39998     first watched Flatliners amazed necessary fea...\n",
       "39999     would film good gross estimated 95000000 awar...\n",
       "Name: text, Length: 40000, dtype: object"
      ]
     },
     "execution_count": 53,
     "metadata": {},
     "output_type": "execute_result"
    }
   ],
   "source": [
    "df['text']"
   ]
  },
  {
   "cell_type": "markdown",
   "id": "d0b8846c",
   "metadata": {},
   "source": [
    "## Viewing text distribution"
   ]
  },
  {
   "cell_type": "code",
   "execution_count": 57,
   "id": "1508c5f4",
   "metadata": {},
   "outputs": [],
   "source": [
    "!pip -q install wordcloud"
   ]
  },
  {
   "cell_type": "code",
   "execution_count": 58,
   "id": "fe42dc38",
   "metadata": {},
   "outputs": [],
   "source": [
    "text_blob = ' '.join([tweets for tweets in df['text']])\n"
   ]
  },
  {
   "cell_type": "code",
   "execution_count": 59,
   "id": "b0dd488e",
   "metadata": {},
   "outputs": [],
   "source": [
    "from wordcloud import WordCloud, STOPWORDS"
   ]
  },
  {
   "cell_type": "code",
   "execution_count": 60,
   "id": "d98704d5",
   "metadata": {},
   "outputs": [
    {
     "data": {
      "image/png": "[encoded data removed]",
      "text/plain": [
       "<Figure size 432x288 with 1 Axes>"
      ]
     },
     "metadata": {
      "needs_background": "light"
     },
     "output_type": "display_data"
    }
   ],
   "source": [
    "wordCloud = WordCloud(width=1000,height=1000,random_state=0,max_font_size=119).generate(text_blob)\n",
    "plt.imshow(wordCloud,interpolation=\"bilinear\")\n",
    "plt.axis('off')\n",
    "plt.show()"
   ]
  },
  {
   "cell_type": "markdown",
   "id": "a797a0e9",
   "metadata": {},
   "source": [
    "## Vectorization"
   ]
  },
  {
   "cell_type": "code",
   "execution_count": 56,
   "id": "26c97bdc",
   "metadata": {},
   "outputs": [],
   "source": [
    "## TF-IDF Vectorization\n",
    "from sklearn.feature_extraction.text import TfidfVectorizer"
   ]
  },
  {
   "cell_type": "code",
   "execution_count": 61,
   "id": "e8893144",
   "metadata": {},
   "outputs": [],
   "source": [
    "from sklearn.model_selection import train_test_split"
   ]
  },
  {
   "cell_type": "code",
   "execution_count": 69,
   "id": "4dad30f2",
   "metadata": {},
   "outputs": [],
   "source": [
    "X_train,X_test,y_train,y_test = train_test_split(df['text'],df['label'])"
   ]
  },
  {
   "cell_type": "code",
   "execution_count": 71,
   "id": "2cd6766d",
   "metadata": {},
   "outputs": [],
   "source": [
    "# vectorizing train\n",
    "tfidf_vect_train = TfidfVectorizer().fit(X_train)\n",
    "X_tfidf_train = tfidf_vect_train.transform(X_train)\n",
    "X_tfidf_test = tfidf_vect_train.transform(X_test)"
   ]
  },
  {
   "cell_type": "markdown",
   "id": "cdee1522",
   "metadata": {},
   "source": [
    "## Model Training"
   ]
  },
  {
   "cell_type": "markdown",
   "id": "a50fd8aa",
   "metadata": {},
   "source": [
    "## Logisitc Regression"
   ]
  },
  {
   "cell_type": "code",
   "execution_count": 79,
   "id": "72e144d0",
   "metadata": {},
   "outputs": [],
   "source": [
    "from sklearn.linear_model import LogisticRegression"
   ]
  },
  {
   "cell_type": "code",
   "execution_count": 80,
   "id": "fdb8379e",
   "metadata": {},
   "outputs": [],
   "source": [
    "log_reg = LogisticRegression().fit(X_tfidf_train,y_train)\n"
   ]
  },
  {
   "cell_type": "code",
   "execution_count": 81,
   "id": "3a8ce6ec",
   "metadata": {},
   "outputs": [],
   "source": [
    "preds = log_reg.predict(X_tfidf_test)"
   ]
  },
  {
   "cell_type": "code",
   "execution_count": 84,
   "id": "e04a152d",
   "metadata": {},
   "outputs": [
    {
     "name": "stdout",
     "output_type": "stream",
     "text": [
      "The f1 score of the model is:0.8894108436093169\n",
      "The accuracy score of the model is:0.8894108436093169\n"
     ]
    }
   ],
   "source": [
    "from sklearn.metrics import f1_score\n",
    "from sklearn.metrics import accuracy_score\n",
    "\n",
    "\n",
    "f1score = f1_score(y_test,preds)\n",
    "acc_score = accuracy_score(y_test,preds)\n",
    "print(\"The f1 score of the model is:{}\".format(f1score))\n",
    "print(\"The accuracy score of the model is:{}\".format(score))"
   ]
  },
  {
   "cell_type": "markdown",
   "id": "8e87cdce",
   "metadata": {},
   "source": [
    "### Testing the model"
   ]
  },
  {
   "cell_type": "code",
   "execution_count": 93,
   "id": "0e8fece3",
   "metadata": {},
   "outputs": [],
   "source": [
    "import numpy as np"
   ]
  },
  {
   "cell_type": "code",
   "execution_count": 99,
   "id": "d24b9cb7",
   "metadata": {},
   "outputs": [
    {
     "name": "stdout",
     "output_type": "stream",
     "text": [
      "The review is negative!\n"
     ]
    }
   ],
   "source": [
    "text = \"i hated the cats movie\"\n",
    "text = [text]\n",
    "text = tfidf_vect_train.transform(text)\n",
    "# text = np.array(text).reshape(1,-1)\n",
    "pred = log_reg.predict(text)\n",
    "if pred[0]==0:\n",
    "    print(\"The review is negative!\")\n",
    "else:\n",
    "    print(\"Review was positive\")"
   ]
  },
  {
   "cell_type": "markdown",
   "id": "42a2a7d8",
   "metadata": {},
   "source": [
    "## Support Vector Machines"
   ]
  },
  {
   "cell_type": "code",
   "execution_count": 100,
   "id": "e7359746",
   "metadata": {},
   "outputs": [],
   "source": [
    "from sklearn.svm import SVC\n",
    "\n",
    "svm = SVC().fit(X_tfidf_train,y_train)"
   ]
  },
  {
   "cell_type": "code",
   "execution_count": 101,
   "id": "349bdbb8",
   "metadata": {},
   "outputs": [],
   "source": [
    "preds_svm = svm.predict(X_tfidf_test)"
   ]
  },
  {
   "cell_type": "code",
   "execution_count": 102,
   "id": "1acddfc6",
   "metadata": {},
   "outputs": [
    {
     "name": "stdout",
     "output_type": "stream",
     "text": [
      "The f1 score of the model is:0.895210166177908\n",
      "The accuracy score of the model is:0.8894108436093169\n"
     ]
    }
   ],
   "source": [
    "f1score = f1_score(y_test,preds_svm)\n",
    "acc_score = accuracy_score(y_test,preds_svm)\n",
    "print(\"The f1 score of the model is:{}\".format(f1score))\n",
    "print(\"The accuracy score of the model is:{}\".format(score))"
   ]
  },
  {
   "cell_type": "markdown",
   "id": "37fee754",
   "metadata": {},
   "source": [
    "### Testing the model"
   ]
  },
  {
   "cell_type": "code",
   "execution_count": 104,
   "id": "ded9c3fe",
   "metadata": {},
   "outputs": [
    {
     "name": "stdout",
     "output_type": "stream",
     "text": [
      "Review was positive!\n"
     ]
    }
   ],
   "source": [
    "text = \"The Dark Knight is my favorite movie of all time!\"\n",
    "text = [text]\n",
    "text = tfidf_vect_train.transform(text)\n",
    "# text = np.array(text).reshape(1,-1)\n",
    "pred = svm.predict(text)\n",
    "if pred[0]==0:\n",
    "    print(\"The review is negative!\")\n",
    "else:\n",
    "    print(\"Review was positive!\")"
   ]
  },
  {
   "cell_type": "code",
   "execution_count": null,
   "id": "39c737dd",
   "metadata": {},
   "outputs": [],
   "source": []
  }
 ],
 "metadata": {
  "kernelspec": {
   "display_name": "Python 3",
   "language": "python",
   "name": "python3"
  },
  "language_info": {
   "codemirror_mode": {
    "name": "ipython",
    "version": 3
   },
   "file_extension": ".py",
   "mimetype": "text/x-python",
   "name": "python",
   "nbconvert_exporter": "python",
   "pygments_lexer": "ipython3",
   "version": "3.8.8"
  }
 },
 "nbformat": 4,
 "nbformat_minor": 5
}
